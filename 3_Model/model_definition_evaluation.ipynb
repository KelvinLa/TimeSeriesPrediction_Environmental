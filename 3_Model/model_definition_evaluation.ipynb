{
 "cells": [
  {
   "cell_type": "markdown",
   "metadata": {},
   "source": [
    "# Model Definition and Evaluation\n",
    "## Table of Contents\n",
    "1. [Model Selection](#model-selection)\n",
    "2. [Feature Engineering](#feature-engineering)\n",
    "3. [Hyperparameter Tuning](#hyperparameter-tuning)\n",
    "4. [Implementation](#implementation)\n",
    "5. [Evaluation Metrics](#evaluation-metrics)\n",
    "6. [Comparative Analysis](#comparative-analysis)\n"
   ]
  },
  {
   "cell_type": "code",
   "execution_count": 1,
   "metadata": {},
   "outputs": [],
   "source": [
    "from scipy.io.arff import loadarff\n",
    "import pandas as pd\n",
    "import numpy as np\n",
    "import matplotlib.pyplot as plt\n",
    "from numpy.fft import rfft\n",
    "from sklearn.preprocessing import LabelEncoder\n",
    "\n",
    "# ML\n",
    "\n",
    "## Models\n",
    "from sklearn.naive_bayes import GaussianNB\n",
    "from sklearn.svm import SVC\n",
    "from sklearn.ensemble import RandomForestClassifier\n",
    "from sklearn.neighbors import KNeighborsClassifier\n",
    "from sklearn.tree import DecisionTreeClassifier\n",
    "\n",
    "## Cross Validation\n",
    "import time\n",
    "from sklearn.model_selection import RepeatedStratifiedKFold \n",
    "from sklearn.model_selection import StratifiedKFold\n",
    "from sklearn.model_selection import GridSearchCV\n",
    "from sklearn.model_selection import cross_validate\n",
    "from sklearn.pipeline import Pipeline\n",
    "\n",
    "## evaluation\n",
    "from sklearn.metrics import accuracy_score, confusion_matrix, ConfusionMatrixDisplay"
   ]
  },
  {
   "cell_type": "markdown",
   "metadata": {},
   "source": [
    "## Model Selection\n",
    "\n",
    "For this task different Classical Machine Learning Classifiers are considered. The following are:\n",
    "- Gaussian Naive Bayes\n",
    "- Support Vector Classifier\n",
    "- Random Forest Classifier\n",
    "- K-Neighbors Classifier\n",
    "- Decision Tree Classifier\n",
    "\n",
    "These are the most typical Classifiers, which are usually used in Machine Learning Classifier Tasks. Also they all are implemented in the module sklearn, which makes them easily compatible. "
   ]
  },
  {
   "cell_type": "markdown",
   "metadata": {},
   "source": [
    "## Feature Engineering\n",
    "\n",
    "[Describe any additional feature engineering you've performed beyond what was done for the baseline model.]\n"
   ]
  },
  {
   "cell_type": "code",
   "execution_count": 2,
   "metadata": {},
   "outputs": [],
   "source": [
    "# Load the dataset\n",
    "data_train = loadarff('../1_DatasetCharacteristics/data/InsectSound_TRAIN.arff')\n",
    "data_test = loadarff('../1_DatasetCharacteristics/data/InsectSound_TEST.arff')\n",
    "\n",
    "df_train = pd.DataFrame(data_train[0])\n",
    "df_test = pd.DataFrame(data_test[0])\n",
    "\n",
    "\n",
    "# Fast Fourier Transform\n",
    "X_train = pd.DataFrame(abs(rfft(df_train.drop(columns = \"target\"))))\n",
    "X_test = pd.DataFrame(abs(rfft(df_test.drop(columns = \"target\"))))\n",
    "\n",
    "# Creating a instance of label Encoder.\n",
    "le = LabelEncoder()\n",
    "# Using .fit_transform function to fit label encoder and return encoded label\n",
    "y_train = le.fit_transform(df_train['target'])\n",
    "y_test = le.fit_transform(df_test['target'])\n",
    "\n",
    "# Creating a dataset with less frequencies (first half) to compare results\n",
    "X_train_smaller = X_train.iloc[:, :150]\n",
    "X_test_smaller = X_test.iloc[:, :150]"
   ]
  },
  {
   "cell_type": "markdown",
   "metadata": {},
   "source": [
    "## Hyperparameter Tuning\n",
    "\n",
    "In this notebook a nested cross validation and grid search is used. Also to keep it easily comparible there is a global configuration of the number of splits and repeats at the top."
   ]
  },
  {
   "cell_type": "code",
   "execution_count": 3,
   "metadata": {},
   "outputs": [],
   "source": [
    "# Global Configuration useful: (no magic numbers)\n",
    "num_trials = 3\n",
    "num_inner_repeats = 3\n",
    "num_inner_splits = 3\n",
    "num_outer_splits = 3\n",
    "\n",
    "\n",
    "def nested_cv(estimator, grid, features, targets):\n",
    "\n",
    "    start = time.time()\n",
    "    accs = np.zeros((num_trials,num_outer_splits))\n",
    "    baccs = np.zeros((num_trials,num_outer_splits)) # balanced accuracy\n",
    "    fit_times = np.zeros((num_trials,num_outer_splits))\n",
    "    test_times = np.zeros((num_trials,num_outer_splits))\n",
    "\n",
    "    for i in range(num_trials):\n",
    "        print(\"Running Outer CV in iteration \", i , \" at time \", time.time()-start)\n",
    "\n",
    "        # best parametrisation\n",
    "        inner_cv = RepeatedStratifiedKFold(n_splits=num_inner_splits, n_repeats=num_trials,random_state=1)\n",
    "        \n",
    "        # creating results\n",
    "        outer_cv = StratifiedKFold(n_splits=num_outer_splits, shuffle = True ,random_state=i)\n",
    "\n",
    "        # try all combinations of grid, returns hyperparameters with highest score \n",
    "        clf = GridSearchCV(estimator= Pipeline([(\"estimator\",estimator)]), param_grid=grid, cv = inner_cv, scoring= (\"balanced_accuracy\"), n_jobs=8, refit = \"balanced_accuracy\")\n",
    "        # already optimized, just try with best parameters, returns dictionary\n",
    "        cv_results = cross_validate(clf, X = features, y = targets, cv = outer_cv, scoring=(\"accuracy\", \"balanced_accuracy\"), n_jobs=8)\n",
    "\n",
    "        accs[i] = cv_results[\"test_accuracy\"]\n",
    "        baccs[i] = cv_results[\"test_balanced_accuracy\"]\n",
    "        fit_times[i] = cv_results[\"fit_time\"]\n",
    "        test_times[i] = cv_results[\"score_time\"]\n",
    "    \n",
    "    print(\"Total time : \", time.time()-start, \" sec\")\n",
    "    return accs, baccs, fit_times, test_times\n",
    "\n",
    "def add_results(results, name, accs, baccs, fit_times, test_times):\n",
    "    row = {\"name\" : name,\n",
    "        \"accs_mean\" : np.mean(accs),\n",
    "        \"accs_std\" : np.std(accs),\n",
    "        \"accs_min\" : np.min(accs),\n",
    "        \"accs_max\" : np.max(accs),\n",
    "        \"baccs_mean\" : np.mean(baccs),\n",
    "        \"baccs_std\" : np.std(baccs),\n",
    "        \"baccs_min\" : np.min(baccs),\n",
    "        \"baccs_max\" : np.max(baccs),\n",
    "        \"fit_time\" : fit_times.mean(),\n",
    "        \"test_time\" : test_times.mean()\n",
    "    }\n",
    "    return pd.concat([results, pd.DataFrame(row, index = [0])], ignore_index = True)\n",
    "\n",
    "def train_prod_model(X_train, y_train, estimator, grid):\n",
    "    pipe = Pipeline([(\"estimator\",estimator)])\n",
    "    cv = RepeatedStratifiedKFold(n_splits=num_inner_splits, n_repeats=num_inner_repeats, random_state=1)\n",
    "    clf = GridSearchCV(estimator = pipe, param_grid=grid, cv = cv)\n",
    "    clf.fit(X_train, y_train)\n",
    "    return clf\n",
    "\n",
    "def plot_results(y_test, y_pred, clf) : \n",
    "    cm = confusion_matrix(y_test, y_pred, labels=clf.classes_)\n",
    "    disp = ConfusionMatrixDisplay(confusion_matrix=cm,\n",
    "                                display_labels=clf.classes_)\n",
    "    disp.plot();\n",
    "    \n",
    "    return accuracy_score(y_test, y_pred)\n",
    "\n",
    "results = pd.DataFrame()"
   ]
  },
  {
   "cell_type": "markdown",
   "metadata": {},
   "source": [
    "## Implementation\n",
    "\n",
    "[Implement the final model(s) you've selected based on the above steps.]\n"
   ]
  },
  {
   "cell_type": "markdown",
   "metadata": {},
   "source": [
    "### Gaussian Naive Bayes"
   ]
  },
  {
   "cell_type": "code",
   "execution_count": 4,
   "metadata": {},
   "outputs": [],
   "source": [
    "gnb_grid = {\"estimator__var_smoothing\" : [.05, .1, .3, .5, 1]}"
   ]
  },
  {
   "cell_type": "markdown",
   "metadata": {},
   "source": [
    "#### Full Dataset"
   ]
  },
  {
   "cell_type": "code",
   "execution_count": 5,
   "metadata": {},
   "outputs": [
    {
     "name": "stdout",
     "output_type": "stream",
     "text": [
      "Running Outer CV in iteration  0  at time  0.0\n",
      "Running Outer CV in iteration  1  at time  16.274003982543945\n",
      "Running Outer CV in iteration  2  at time  31.15364980697632\n",
      "Total time :  45.508363008499146  sec\n",
      "{'estimator__var_smoothing': 0.1}\n"
     ]
    },
    {
     "data": {
      "text/plain": [
       "0.5992"
      ]
     },
     "execution_count": 5,
     "metadata": {},
     "output_type": "execute_result"
    }
   ],
   "source": [
    "gnb = GaussianNB()\n",
    "accs, baccs, fit_times, test_times = nested_cv(gnb,gnb_grid, X_train, y_train)\n",
    "results = add_results(results=results, name = \"gnb\", accs = accs, baccs = baccs, fit_times = fit_times, test_times= test_times)\n",
    "clf_gnb = train_prod_model(X_train, y_train, gnb, gnb_grid)\n",
    "\n",
    "print(clf_gnb.best_params_)\n",
    "\n",
    "accuracy_score(y_test, clf_gnb.predict(X_test))"
   ]
  },
  {
   "cell_type": "markdown",
   "metadata": {},
   "source": [
    "#### Smaller Dataset"
   ]
  },
  {
   "cell_type": "code",
   "execution_count": 6,
   "metadata": {},
   "outputs": [
    {
     "name": "stdout",
     "output_type": "stream",
     "text": [
      "Running Outer CV in iteration  0  at time  0.0\n",
      "Running Outer CV in iteration  1  at time  7.254518270492554\n",
      "Running Outer CV in iteration  2  at time  14.60692834854126\n",
      "Total time :  21.830267906188965  sec\n",
      "{'estimator__var_smoothing': 0.05}\n"
     ]
    },
    {
     "data": {
      "text/plain": [
       "0.5992"
      ]
     },
     "execution_count": 6,
     "metadata": {},
     "output_type": "execute_result"
    }
   ],
   "source": [
    "gnb_sm = GaussianNB()\n",
    "\n",
    "accs, baccs, fit_times, test_times = nested_cv(gnb_sm,gnb_grid, X_train_smaller, y_train)\n",
    "results = add_results(results=results, name = \"gnb_sm\", accs = accs, baccs = baccs, fit_times = fit_times, test_times= test_times)\n",
    "\n",
    "clf_gnb_sm = train_prod_model(X_train_smaller, y_train, gnb_sm, gnb_grid)\n",
    "\n",
    "print(clf_gnb_sm.best_params_)\n",
    "\n",
    "\n",
    "accuracy_score(y_test, clf_gnb_sm.predict(X_test_smaller))"
   ]
  },
  {
   "cell_type": "markdown",
   "metadata": {},
   "source": [
    "### Support Vector Classifier"
   ]
  },
  {
   "cell_type": "code",
   "execution_count": 7,
   "metadata": {},
   "outputs": [],
   "source": [
    "svc_grid = {\"estimator__kernel\" : ['linear','rbf'], \"estimator__C\": [0.1, 1]}"
   ]
  },
  {
   "cell_type": "markdown",
   "metadata": {},
   "source": [
    "#### Full Dataset"
   ]
  },
  {
   "cell_type": "code",
   "execution_count": 8,
   "metadata": {},
   "outputs": [
    {
     "name": "stdout",
     "output_type": "stream",
     "text": [
      "Running Outer CV in iteration  0  at time  0.0\n",
      "Running Outer CV in iteration  1  at time  1153.7479915618896\n",
      "Running Outer CV in iteration  2  at time  2261.4552471637726\n",
      "Total time :  3371.8896701335907  sec\n",
      "{'estimator__C': 1, 'estimator__kernel': 'rbf'}\n"
     ]
    }
   ],
   "source": [
    "svc = SVC()\n",
    "\n",
    "accs, baccs, fit_times, test_times = nested_cv(svc,svc_grid, X_train, y_train)\n",
    "results = add_results(results=results, name = \"svc\", accs = accs, baccs = baccs, fit_times = fit_times, test_times= test_times)\n",
    "\n",
    "clf = train_prod_model(X_train, y_train, svc, svc_grid)\n",
    "\n",
    "print(clf.best_params_)"
   ]
  },
  {
   "cell_type": "markdown",
   "metadata": {},
   "source": [
    "#### Smaller Dataset"
   ]
  },
  {
   "cell_type": "code",
   "execution_count": 9,
   "metadata": {},
   "outputs": [
    {
     "name": "stdout",
     "output_type": "stream",
     "text": [
      "Running Outer CV in iteration  0  at time  0.0\n",
      "Running Outer CV in iteration  1  at time  824.3327133655548\n",
      "Running Outer CV in iteration  2  at time  2268.736865758896\n",
      "Total time :  3079.410781145096  sec\n",
      "{'estimator__C': 1, 'estimator__kernel': 'rbf'}\n"
     ]
    },
    {
     "data": {
      "text/plain": [
       "0.728"
      ]
     },
     "execution_count": 9,
     "metadata": {},
     "output_type": "execute_result"
    }
   ],
   "source": [
    "svc = SVC()\n",
    "\n",
    "accs, baccs, fit_times, test_times = nested_cv(svc,svc_grid, X_train_smaller, y_train)\n",
    "results = add_results(results=results, name = \"svc_sm\", accs = accs, baccs = baccs, fit_times = fit_times, test_times= test_times)\n",
    "\n",
    "clf_svc_sm = train_prod_model(X_train_smaller, y_train, svc, svc_grid)\n",
    "\n",
    "print(clf_svc_sm.best_params_)\n",
    "accuracy_score(y_test, clf_svc_sm.predict(X_test_smaller))"
   ]
  },
  {
   "cell_type": "markdown",
   "metadata": {},
   "source": [
    "### Random Forest Classifier"
   ]
  },
  {
   "cell_type": "code",
   "execution_count": 10,
   "metadata": {},
   "outputs": [],
   "source": [
    "random_forest_grid = {\"estimator__n_estimators\" : [10, 100, 150, 300]}"
   ]
  },
  {
   "cell_type": "markdown",
   "metadata": {},
   "source": [
    "#### Full Dataset"
   ]
  },
  {
   "cell_type": "code",
   "execution_count": 11,
   "metadata": {},
   "outputs": [
    {
     "name": "stdout",
     "output_type": "stream",
     "text": [
      "Running Outer CV in iteration  0  at time  0.0\n",
      "Running Outer CV in iteration  1  at time  603.921338558197\n",
      "Running Outer CV in iteration  2  at time  1208.6200604438782\n",
      "Total time :  1817.7600269317627  sec\n",
      "{'estimator__n_estimators': 300}\n"
     ]
    },
    {
     "data": {
      "text/plain": [
       "0.7356"
      ]
     },
     "execution_count": 11,
     "metadata": {},
     "output_type": "execute_result"
    }
   ],
   "source": [
    "# Random Forest Complete DataSet\n",
    "rfc = RandomForestClassifier(random_state=1)\n",
    "\n",
    "accs, baccs, fit_times, test_times = nested_cv(rfc,random_forest_grid, X_train, y_train)\n",
    "results = add_results(results=results, name = \"random_forest\", accs = accs, baccs = baccs, fit_times = fit_times, test_times= test_times)\n",
    "\n",
    "clf_rfc = train_prod_model(X_train, y_train, rfc, random_forest_grid)\n",
    "\n",
    "print(clf_rfc.best_params_)\n",
    "accuracy_score(y_test, clf_rfc.predict(X_test))"
   ]
  },
  {
   "cell_type": "markdown",
   "metadata": {},
   "source": [
    "#### Smaller Dataset"
   ]
  },
  {
   "cell_type": "code",
   "execution_count": 12,
   "metadata": {},
   "outputs": [
    {
     "name": "stdout",
     "output_type": "stream",
     "text": [
      "Running Outer CV in iteration  0  at time  0.0\n",
      "Running Outer CV in iteration  1  at time  432.44741201400757\n",
      "Running Outer CV in iteration  2  at time  868.3287403583527\n",
      "Total time :  1303.5031235218048  sec\n",
      "{'estimator__n_estimators': 300}\n"
     ]
    },
    {
     "data": {
      "text/plain": [
       "0.73528"
      ]
     },
     "execution_count": 12,
     "metadata": {},
     "output_type": "execute_result"
    }
   ],
   "source": [
    "rfc = RandomForestClassifier(random_state=1)\n",
    "\n",
    "accs, baccs, fit_times, test_times = nested_cv(rfc,random_forest_grid, X_train_smaller, y_train)\n",
    "results = add_results(results=results, name = \"random_forest_sm\", accs = accs, baccs = baccs, fit_times = fit_times, test_times= test_times)\n",
    "\n",
    "clf_rfc_sm = train_prod_model(X_train_smaller, y_train, rfc, random_forest_grid)\n",
    "\n",
    "print(clf_rfc_sm.best_params_)\n",
    "accuracy_score(y_test, clf_rfc_sm.predict(X_test_smaller))"
   ]
  },
  {
   "cell_type": "markdown",
   "metadata": {},
   "source": [
    "### K-Neighbors Classifier"
   ]
  },
  {
   "cell_type": "code",
   "execution_count": 13,
   "metadata": {},
   "outputs": [],
   "source": [
    "knn_grid = {\"estimator__weights\" : (\"uniform\",\"distance\"), \"estimator__n_neighbors\": range(1,3)}"
   ]
  },
  {
   "cell_type": "markdown",
   "metadata": {},
   "source": [
    "#### Full Dataset"
   ]
  },
  {
   "cell_type": "code",
   "execution_count": 14,
   "metadata": {},
   "outputs": [
    {
     "name": "stdout",
     "output_type": "stream",
     "text": [
      "Running Outer CV in iteration  0  at time  0.0\n",
      "Running Outer CV in iteration  1  at time  37.25303101539612\n",
      "Running Outer CV in iteration  2  at time  74.22644710540771\n",
      "Total time :  110.39417338371277  sec\n",
      "{'estimator__n_neighbors': 1, 'estimator__weights': 'uniform'}\n"
     ]
    },
    {
     "data": {
      "text/plain": [
       "0.63788"
      ]
     },
     "execution_count": 14,
     "metadata": {},
     "output_type": "execute_result"
    }
   ],
   "source": [
    "knn = KNeighborsClassifier()\n",
    "accs, baccs, fit_times, test_times = nested_cv(knn,knn_grid, X_train.values, y_train)\n",
    "results = add_results(results=results, name = \"kNN\", accs = accs, baccs = baccs, fit_times = fit_times, test_times= test_times)\n",
    "\n",
    "clf_knn = train_prod_model(X_train.values, y_train, knn, knn_grid)\n",
    "\n",
    "print(clf_knn.best_params_)\n",
    "accuracy_score(y_test, clf_knn.predict(X_test))"
   ]
  },
  {
   "cell_type": "markdown",
   "metadata": {},
   "source": [
    "#### Smaller Dataset"
   ]
  },
  {
   "cell_type": "code",
   "execution_count": 15,
   "metadata": {},
   "outputs": [
    {
     "name": "stdout",
     "output_type": "stream",
     "text": [
      "Running Outer CV in iteration  0  at time  0.0\n",
      "Running Outer CV in iteration  1  at time  22.86045265197754\n",
      "Running Outer CV in iteration  2  at time  45.442070960998535\n",
      "Total time :  67.5814061164856  sec\n",
      "{'estimator__n_neighbors': 1, 'estimator__weights': 'uniform'}\n"
     ]
    },
    {
     "data": {
      "text/plain": [
       "0.63104"
      ]
     },
     "execution_count": 15,
     "metadata": {},
     "output_type": "execute_result"
    }
   ],
   "source": [
    "knn_sm = KNeighborsClassifier()\n",
    "accs, baccs, fit_times, test_times = nested_cv(knn_sm,knn_grid, X_train_smaller, y_train)\n",
    "results = add_results(results=results, name = \"kNN_sm\", accs = accs, baccs = baccs, fit_times = fit_times, test_times= test_times)\n",
    "\n",
    "clf_knn_sm = train_prod_model(X_train_smaller, y_train, knn_sm, knn_grid)\n",
    "\n",
    "print(clf_knn_sm.best_params_)\n",
    "accuracy_score(y_test, clf_knn_sm.predict(X_test_smaller))"
   ]
  },
  {
   "cell_type": "markdown",
   "metadata": {},
   "source": [
    "### Decision Tree Classifier"
   ]
  },
  {
   "cell_type": "code",
   "execution_count": 16,
   "metadata": {},
   "outputs": [],
   "source": [
    "tree_grid = {\"estimator__criterion\": (\"gini\", \"entropy\"), \"estimator__max_depth\" : [2**i for i in range(0,7)]}"
   ]
  },
  {
   "cell_type": "markdown",
   "metadata": {},
   "source": [
    "#### Full Dataset"
   ]
  },
  {
   "cell_type": "code",
   "execution_count": 17,
   "metadata": {},
   "outputs": [
    {
     "name": "stdout",
     "output_type": "stream",
     "text": [
      "Running Outer CV in iteration  0  at time  0.0\n",
      "Running Outer CV in iteration  1  at time  447.24935030937195\n",
      "Running Outer CV in iteration  2  at time  893.8723459243774\n",
      "Total time :  1340.5227127075195  sec\n",
      "{'estimator__criterion': 'entropy', 'estimator__max_depth': 8}\n"
     ]
    },
    {
     "data": {
      "text/plain": [
       "0.60628"
      ]
     },
     "execution_count": 17,
     "metadata": {},
     "output_type": "execute_result"
    }
   ],
   "source": [
    "tree = DecisionTreeClassifier(random_state=1)\n",
    "\n",
    "accs, baccs, fit_times, test_times = nested_cv(tree,tree_grid, X_train, y_train)\n",
    "results = add_results(results=results, name = \"decision_tree\", accs = accs, baccs = baccs, fit_times = fit_times, test_times= test_times)\n",
    "\n",
    "clf_tree = train_prod_model(X_train, y_train, tree, tree_grid)\n",
    "\n",
    "print(clf_tree.best_params_)\n",
    "accuracy_score(y_test, clf_tree.predict(X_test))"
   ]
  },
  {
   "cell_type": "markdown",
   "metadata": {},
   "source": [
    "#### Smaller Dataset"
   ]
  },
  {
   "cell_type": "code",
   "execution_count": 18,
   "metadata": {},
   "outputs": [
    {
     "name": "stdout",
     "output_type": "stream",
     "text": [
      "Running Outer CV in iteration  0  at time  0.0\n",
      "Running Outer CV in iteration  1  at time  221.86227536201477\n",
      "Running Outer CV in iteration  2  at time  443.13639783859253\n",
      "Total time :  665.6937670707703  sec\n",
      "{'estimator__criterion': 'entropy', 'estimator__max_depth': 8}\n"
     ]
    },
    {
     "data": {
      "text/plain": [
       "0.60864"
      ]
     },
     "execution_count": 18,
     "metadata": {},
     "output_type": "execute_result"
    }
   ],
   "source": [
    "tree = DecisionTreeClassifier(random_state=1)\n",
    "\n",
    "accs, baccs, fit_times, test_times = nested_cv(tree,tree_grid, X_train_smaller, y_train)\n",
    "results = add_results(results=results, name = \"decision_tree_sm\", accs = accs, baccs = baccs, fit_times = fit_times, test_times= test_times)\n",
    "\n",
    "clf_tree_sm = train_prod_model(X_train_smaller, y_train, tree, tree_grid)\n",
    "\n",
    "print(clf_tree_sm.best_params_)\n",
    "accuracy_score(y_test, clf_tree_sm.predict(X_test_smaller))"
   ]
  },
  {
   "cell_type": "markdown",
   "metadata": {},
   "source": [
    "## Evaluation Metrics and Comparative Analysis\n",
    "\n",
    "In this section the calculated accuracy scores for the different classifiers are evaluated and compared to each other as well as to the baseline model."
   ]
  },
  {
   "cell_type": "code",
   "execution_count": 21,
   "metadata": {},
   "outputs": [
    {
     "data": {
      "text/html": [
       "<div>\n",
       "<style scoped>\n",
       "    .dataframe tbody tr th:only-of-type {\n",
       "        vertical-align: middle;\n",
       "    }\n",
       "\n",
       "    .dataframe tbody tr th {\n",
       "        vertical-align: top;\n",
       "    }\n",
       "\n",
       "    .dataframe thead th {\n",
       "        text-align: right;\n",
       "    }\n",
       "</style>\n",
       "<table border=\"1\" class=\"dataframe\">\n",
       "  <thead>\n",
       "    <tr style=\"text-align: right;\">\n",
       "      <th></th>\n",
       "      <th>name</th>\n",
       "      <th>accs_mean</th>\n",
       "      <th>accs_std</th>\n",
       "      <th>accs_min</th>\n",
       "      <th>accs_max</th>\n",
       "      <th>fit_time</th>\n",
       "      <th>test_time</th>\n",
       "    </tr>\n",
       "  </thead>\n",
       "  <tbody>\n",
       "    <tr>\n",
       "      <th>8</th>\n",
       "      <td>decision_tree</td>\n",
       "      <td>0.596813</td>\n",
       "      <td>0.008794</td>\n",
       "      <td>0.586153</td>\n",
       "      <td>0.610944</td>\n",
       "      <td>445.767351</td>\n",
       "      <td>0.011173</td>\n",
       "    </tr>\n",
       "    <tr>\n",
       "      <th>9</th>\n",
       "      <td>decision_tree_sm</td>\n",
       "      <td>0.599493</td>\n",
       "      <td>0.006254</td>\n",
       "      <td>0.586753</td>\n",
       "      <td>0.607871</td>\n",
       "      <td>220.333219</td>\n",
       "      <td>0.007535</td>\n",
       "    </tr>\n",
       "    <tr>\n",
       "      <th>0</th>\n",
       "      <td>gnb</td>\n",
       "      <td>0.601413</td>\n",
       "      <td>0.001692</td>\n",
       "      <td>0.598872</td>\n",
       "      <td>0.603864</td>\n",
       "      <td>12.527852</td>\n",
       "      <td>0.502562</td>\n",
       "    </tr>\n",
       "    <tr>\n",
       "      <th>1</th>\n",
       "      <td>gnb_sm</td>\n",
       "      <td>0.601453</td>\n",
       "      <td>0.003275</td>\n",
       "      <td>0.595392</td>\n",
       "      <td>0.607824</td>\n",
       "      <td>6.748821</td>\n",
       "      <td>0.199094</td>\n",
       "    </tr>\n",
       "    <tr>\n",
       "      <th>7</th>\n",
       "      <td>kNN_sm</td>\n",
       "      <td>0.623613</td>\n",
       "      <td>0.004456</td>\n",
       "      <td>0.614545</td>\n",
       "      <td>0.629905</td>\n",
       "      <td>19.800821</td>\n",
       "      <td>1.718615</td>\n",
       "    </tr>\n",
       "    <tr>\n",
       "      <th>6</th>\n",
       "      <td>kNN</td>\n",
       "      <td>0.628587</td>\n",
       "      <td>0.004327</td>\n",
       "      <td>0.620905</td>\n",
       "      <td>0.634825</td>\n",
       "      <td>32.170527</td>\n",
       "      <td>2.719509</td>\n",
       "    </tr>\n",
       "    <tr>\n",
       "      <th>3</th>\n",
       "      <td>svc_sm</td>\n",
       "      <td>0.720613</td>\n",
       "      <td>0.002929</td>\n",
       "      <td>0.715829</td>\n",
       "      <td>0.724829</td>\n",
       "      <td>794.224772</td>\n",
       "      <td>105.264107</td>\n",
       "    </tr>\n",
       "    <tr>\n",
       "      <th>2</th>\n",
       "      <td>svc</td>\n",
       "      <td>0.726213</td>\n",
       "      <td>0.002954</td>\n",
       "      <td>0.721502</td>\n",
       "      <td>0.730589</td>\n",
       "      <td>1084.920991</td>\n",
       "      <td>35.096847</td>\n",
       "    </tr>\n",
       "    <tr>\n",
       "      <th>5</th>\n",
       "      <td>random_forest_sm</td>\n",
       "      <td>0.729293</td>\n",
       "      <td>0.004982</td>\n",
       "      <td>0.723149</td>\n",
       "      <td>0.738390</td>\n",
       "      <td>432.022286</td>\n",
       "      <td>0.510126</td>\n",
       "    </tr>\n",
       "    <tr>\n",
       "      <th>4</th>\n",
       "      <td>random_forest</td>\n",
       "      <td>0.731787</td>\n",
       "      <td>0.004070</td>\n",
       "      <td>0.725342</td>\n",
       "      <td>0.739710</td>\n",
       "      <td>603.630489</td>\n",
       "      <td>0.544061</td>\n",
       "    </tr>\n",
       "  </tbody>\n",
       "</table>\n",
       "</div>"
      ],
      "text/plain": [
       "               name  accs_mean  accs_std  accs_min  accs_max     fit_time  \\\n",
       "8     decision_tree   0.596813  0.008794  0.586153  0.610944   445.767351   \n",
       "9  decision_tree_sm   0.599493  0.006254  0.586753  0.607871   220.333219   \n",
       "0               gnb   0.601413  0.001692  0.598872  0.603864    12.527852   \n",
       "1            gnb_sm   0.601453  0.003275  0.595392  0.607824     6.748821   \n",
       "7            kNN_sm   0.623613  0.004456  0.614545  0.629905    19.800821   \n",
       "6               kNN   0.628587  0.004327  0.620905  0.634825    32.170527   \n",
       "3            svc_sm   0.720613  0.002929  0.715829  0.724829   794.224772   \n",
       "2               svc   0.726213  0.002954  0.721502  0.730589  1084.920991   \n",
       "5  random_forest_sm   0.729293  0.004982  0.723149  0.738390   432.022286   \n",
       "4     random_forest   0.731787  0.004070  0.725342  0.739710   603.630489   \n",
       "\n",
       "    test_time  \n",
       "8    0.011173  \n",
       "9    0.007535  \n",
       "0    0.502562  \n",
       "1    0.199094  \n",
       "7    1.718615  \n",
       "6    2.719509  \n",
       "3  105.264107  \n",
       "2   35.096847  \n",
       "5    0.510126  \n",
       "4    0.544061  "
      ]
     },
     "execution_count": 21,
     "metadata": {},
     "output_type": "execute_result"
    }
   ],
   "source": [
    "df = results.copy()\n",
    "df.drop(columns=df.columns[df.columns.str.contains(\"baccs\")], inplace=True)\n",
    "df.rename({\"gnb\": \"Gaussian Naive Bayes\",\"gnb_sm\": \"Gaussian Naive Bayes small\", \"svc\": \"Support Vector Classifier\", \"svc_sm\": \"Support Vector Classifier small\",\"random_forest\": \"Random Forest\", \"random_forest_sm\": \"Random Forest small\" , \"kNN\": \"k-Nearest-Neighbors\", \"kNN_sm\": \"k-Nearest-Neighbors small\", \"kNN_argmax\": \"k-Nearest-Neighbors (max frequency)\", \"decision_tree\": \"Decision Tree\", \"decision_tree_sm\": \"Decision Tree small\"}, inplace=True)\n",
    "df.sort_values(\"accs_mean\")"
   ]
  },
  {
   "cell_type": "markdown",
   "metadata": {},
   "source": [
    "The Random Forest Classifier has the best accuracy score with a value of 0.73. It has a very high fit time but once it is fitted, the test time is very fast in comparison to the others. All Classifier are superior to the baseline, which has an accuracy of 0.1. "
   ]
  },
  {
   "cell_type": "markdown",
   "metadata": {},
   "source": [
    "### Setbacks and Further Improvements"
   ]
  },
  {
   "cell_type": "markdown",
   "metadata": {},
   "source": [
    "It takes a lot of time to test all combinations of different hyperparameters, therefore not a lot of parameters are tested. It is likely that the results would become even better if more hyperparameters would be tuned with a finer grid. \n",
    "\n",
    "Also all of the models are classical machine learning classifiers. A Neural Network is likely to also lead to better results. "
   ]
  }
 ],
 "metadata": {
  "kernelspec": {
   "display_name": "geo",
   "language": "python",
   "name": "python3"
  },
  "language_info": {
   "codemirror_mode": {
    "name": "ipython",
    "version": 3
   },
   "file_extension": ".py",
   "mimetype": "text/x-python",
   "name": "python",
   "nbconvert_exporter": "python",
   "pygments_lexer": "ipython3",
   "version": "3.10.8"
  }
 },
 "nbformat": 4,
 "nbformat_minor": 2
}
